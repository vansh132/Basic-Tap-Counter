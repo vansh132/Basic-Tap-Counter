{
  "nbformat": 4,
  "nbformat_minor": 0,
  "metadata": {
    "colab": {
      "provenance": [],
      "authorship_tag": "ABX9TyOGgEWu8sebejNV+6/dVvsr",
      "include_colab_link": true
    },
    "kernelspec": {
      "name": "python3",
      "display_name": "Python 3"
    },
    "language_info": {
      "name": "python"
    }
  },
  "cells": [
    {
      "cell_type": "markdown",
      "metadata": {
        "id": "view-in-github",
        "colab_type": "text"
      },
      "source": [
        "<a href=\"https://colab.research.google.com/github/vansh132/Basic-Tap-Counter/blob/main/stemming_2347152.ipynb\" target=\"_parent\"><img src=\"https://colab.research.google.com/assets/colab-badge.svg\" alt=\"Open In Colab\"/></a>"
      ]
    },
    {
      "cell_type": "code",
      "execution_count": 1,
      "metadata": {
        "colab": {
          "base_uri": "https://localhost:8080/"
        },
        "id": "B-XGriq8Kqg0",
        "outputId": "3bbd0933-25b3-4c84-a877-6809b4f4a9c3"
      },
      "outputs": [
        {
          "output_type": "stream",
          "name": "stderr",
          "text": [
            "[nltk_data] Downloading package punkt to /root/nltk_data...\n",
            "[nltk_data]   Unzipping tokenizers/punkt.zip.\n"
          ]
        },
        {
          "output_type": "stream",
          "name": "stdout",
          "text": [
            "Original text:\n",
            "The study assesses financial literacy among Indian adults aged 20 to 50 through a survey of 186 respondents. It examines their grasp of financial management concepts and evaluates the effectiveness of educational programs. By analyzing differences across demographics, the study aims to identify strategies for improving financial inclusion and literacy. It emphasizes the benefits of informed financial decision-making and the adoption of digital financial services. \n",
            "\n",
            "Porter Stemming:\n",
            "the studi assess financi literaci among indian adult age 20 to 50 through a survey of 186 respond . it examin their grasp of financi manag concept and evalu the effect of educ program . by analyz differ across demograph , the studi aim to identifi strategi for improv financi inclus and literaci . it emphas the benefit of inform financi decision-mak and the adopt of digit financi servic .\n",
            "\n",
            "Lancaster Stemming:\n",
            "the study assess fin lit among ind adult ag 20 to 50 through a survey of 186 respond . it examin their grasp of fin man conceiv and evalu the effect of educ program . by analys diff across demograph , the study aim to ident strategies for improv fin includ and lit . it emphas the benefit of inform fin decision-making and the adopt of digit fin serv .\n",
            "\n",
            "Snowball Stemming (Porter2):\n",
            "the studi assess financi literaci among indian adult age 20 to 50 through a survey of 186 respond . it examin their grasp of financi manag concept and evalu the effect of educ program . by analyz differ across demograph , the studi aim to identifi strategi for improv financi inclus and literaci . it emphas the benefit of inform financi decision-mak and the adopt of digit financi servic .\n",
            "\n",
            "Regex-Based Stemming:\n",
            "The study assesse financial literacy among Indian adult ag 20 to 50 through a survey of 186 respondent . It examine their grasp of financial management concept and evaluate the effectivenes of educational program . By analyz difference acros demographic , the study aim to identify strategie for improv financial inclusion and literacy . It emphasize the benefit of inform financial decision-mak and the adoption of digital financial service .\n"
          ]
        }
      ],
      "source": [
        "import nltk\n",
        "from nltk.stem import PorterStemmer, LancasterStemmer, SnowballStemmer\n",
        "from nltk.tokenize import word_tokenize\n",
        "import re\n",
        "\n",
        "# Download NLTK resources (run this once)\n",
        "nltk.download('punkt')\n",
        "\n",
        "text = \"The study assesses financial literacy among Indian adults aged 20 to 50 through a survey of 186 respondents. It examines their grasp of financial management concepts and evaluates the effectiveness of educational programs. By analyzing differences across demographics, the study aims to identify strategies for improving financial inclusion and literacy. It emphasizes the benefits of informed financial decision-making and the adoption of digital financial services.\"\n",
        "\n",
        "# Define a function for regex-based stemming\n",
        "def regex_stem(word):\n",
        "    # Define patterns for suffixes to be removed\n",
        "    patterns = [\n",
        "        (r's$', ''),      # Plural form\n",
        "        (r'ed$', ''),     # Past tense\n",
        "        (r'ing$', ''),    # Present participle\n",
        "        # Add more patterns as needed\n",
        "    ]\n",
        "\n",
        "    # Apply each pattern to the word\n",
        "    for pattern, replacement in patterns:\n",
        "        word = re.sub(pattern, replacement, word)\n",
        "\n",
        "    return word\n",
        "\n",
        "\n",
        "#original text\n",
        "print(\"Original text:\")\n",
        "print(text, \"\\n\")\n",
        "\n",
        "\n",
        "# Porter Stemming\n",
        "porter_stemmer = PorterStemmer()\n",
        "porter_stemmed_words = [porter_stemmer.stem(word) for word in word_tokenize(text)]\n",
        "porter_stemmed_text = ' '.join(porter_stemmed_words)\n",
        "print(\"Porter Stemming:\")\n",
        "print(porter_stemmed_text)\n",
        "\n",
        "# Lancaster Stemming\n",
        "lancaster_stemmer = LancasterStemmer()\n",
        "lancaster_stemmed_words = [lancaster_stemmer.stem(word) for word in word_tokenize(text)]\n",
        "lancaster_stemmed_text = ' '.join(lancaster_stemmed_words)\n",
        "print(\"\\nLancaster Stemming:\")\n",
        "print(lancaster_stemmed_text)\n",
        "\n",
        "# Snowball Stemming (Porter2)\n",
        "snowball_stemmer = SnowballStemmer(\"english\")\n",
        "snowball_stemmed_words = [snowball_stemmer.stem(word) for word in word_tokenize(text)]\n",
        "snowball_stemmed_text = ' '.join(snowball_stemmed_words)\n",
        "print(\"\\nSnowball Stemming (Porter2):\")\n",
        "print(snowball_stemmed_text)\n",
        "\n",
        "# Regex-based Stemming\n",
        "regex_stemmed_words = [regex_stem(word) for word in word_tokenize(text)]\n",
        "regex_stemmed_text = ' '.join(regex_stemmed_words)\n",
        "print(\"\\nRegex-Based Stemming:\")\n",
        "print(regex_stemmed_text)\n"
      ]
    }
  ]
}